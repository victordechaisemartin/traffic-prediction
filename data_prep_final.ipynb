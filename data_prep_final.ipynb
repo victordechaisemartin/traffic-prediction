{
 "cells": [
  {
   "cell_type": "code",
   "execution_count": 228,
   "metadata": {},
   "outputs": [],
   "source": [
    "import pandas as pd\n",
    "import numpy as np\n",
    "import matplotlib.pyplot as plt\n",
    "from datetime import datetime, date\n"
   ]
  },
  {
   "cell_type": "code",
   "execution_count": 229,
   "metadata": {},
   "outputs": [],
   "source": [
    "chantiers = pd.read_csv('chantiers-a-paris.csv', delimiter = ';') # do we want older or more recent data ?\n",
    "chantiers_pertu = pd.read_csv('chantiers-perturbants.csv', delimiter = ';') # do we want older or more recent data ?\n",
    "traffic = pd.read_csv('comptages-routiers-permanents.csv', delimiter = ';') # do we want older or more recent data ?\n",
    "calendar = pd.read_csv('dimdate-QueryResult.csv', delimiter = ',') # do we want older or more recent data ?\n",
    "vacations = pd.read_csv('fr-en-calendrier-scolaire.csv', delimiter = ';') # do we want older or more recent data ?\n",
    "weather = pd.read_csv('donnees-synop-essentielles-omm.csv', delimiter = ';') # do we want older or more recent data ?\n",
    "markets = pd.read_csv('marches-decouverts.csv', delimiter = ';') # do we want older or more recent data ?\n",
    "events = pd.read_csv('que-faire-a-paris-.csv', delimiter = ';') # do we want older or more recent data ?\n",
    "touristic_zones = pd.read_csv('zones-touristiques-internationales.csv', delimiter = ';') # do we want older or more recent data ?\n",
    "weather_forecast = pd.read_csv('weather_forecast.csv', delimiter = ',') \n"
   ]
  },
  {
   "cell_type": "code",
   "execution_count": 230,
   "metadata": {},
   "outputs": [],
   "source": [
    "chantiers = chantiers[['Code postal arrondissement - Commune',\n",
    "                                   'Date début du chantier', \n",
    "                                   'Date fin du chantier',\n",
    "                                   'Synthèse - Nature du chantier',\n",
    "                                   'Encombrement espace public',]]\n",
    "\n",
    "chantiers_pertu = chantiers_pertu[[\"Code postal de l'arrondissement\", \n",
    "                                                \"Typologie\",  \n",
    "                                                'Objet', \n",
    "                                                'Voie(s)',  \n",
    "                                                'Date de début', \n",
    "                                                'Date de fin', \n",
    "                                                'Impact sur la circulation', \n",
    "                                                'Niveau de perturbation',\n",
    "                                                'Statut',]]\n",
    "\n",
    "traffic = traffic.drop(columns=['geo_point_2d', 'geo_shape', 'Date debut dispo data', 'Date fin dispo data'])\n",
    "\n",
    "calendar = calendar[['word_date', \n",
    "                     'date', \n",
    "                     'year', \n",
    "                     'quarter', \n",
    "                     'month',\n",
    "                     'yearmonth', \n",
    "                     'day_of_month', \n",
    "                     'week', \n",
    "                     'day_of_week', \n",
    "                     'weekday',\n",
    "                     'month_and_year', \n",
    "                     'holiday']]\n",
    "\n",
    "vacations = vacations[['Description', \n",
    "                     'Population', \n",
    "                     'Date de début', \n",
    "                     'Date de fin',\n",
    "                     'Académies', \n",
    "                     'Zones', \n",
    "                     'annee_scolaire']]\n",
    "\n",
    "weather = weather[[ \"Température (°C)\", \n",
    "                   'Humidité',\n",
    "                   'Nebulosité totale',\n",
    "                   'Précipitations dans la dernière heure',\n",
    "                    \"Vitesse du vent moyen 10 mn\",\n",
    "                   \"Date\",]]#\"Pression au niveau mer\", 'Variation de pression en 24 heures', \"Pression station\", 'Précipitations dans les 24 dernières heures', \n",
    "\n",
    "markets = markets[[\"Identifiant marché\",\n",
    "                    'Produit',\n",
    "                   'Arrondissement', \n",
    "                   'Jours de tenue', \n",
    "                   'LUNDI', \n",
    "                   'MARDI',\n",
    "                   'MERCREDI', \n",
    "                   'JEUDI', \n",
    "                   'VENDREDI', \n",
    "                   'SAMEDI', \n",
    "                   'DIMANCHE', \n",
    "                   'Secteur',\n",
    "                   'Heure début en semaine',\n",
    "                   'Heure fin en semaine', \n",
    "                   'Heure début le samedi', \n",
    "                   'Heure fin le samedi',\n",
    "                   'Heure début le dimanche', \n",
    "                   'Heure fin le dimanche']]\n",
    "\n",
    "\n",
    "events = events[['Date de début',\n",
    "                 'Date de fin',\n",
    "                 'Occurrences',\n",
    "                 'Mots clés',  \n",
    "                 'Code postal']]\n",
    "\n",
    "touristic_zones = touristic_zones[['name', 'type', '@timestamp']]"
   ]
  },
  {
   "cell_type": "code",
   "execution_count": 231,
   "metadata": {},
   "outputs": [],
   "source": [
    "amont = traffic[traffic[\"Libelle noeud amont\"].isin(['Av_Champs_Elysees-Washington', \"Convention-Blomet\", \"Sts_Peres-Voltaire\"])]\n",
    "aval_amont = amont[amont[\"Libelle noeud aval\"].isin(['Av_Champs_Elysees-Berri', \"Lecourbe-Convention\", \"Sts_Peres-Universite\"]) ]"
   ]
  },
  {
   "cell_type": "code",
   "execution_count": 232,
   "metadata": {},
   "outputs": [
    {
     "name": "stderr",
     "output_type": "stream",
     "text": [
      "C:\\Users\\guill\\AppData\\Local\\Temp\\ipykernel_21564\\2760610762.py:1: SettingWithCopyWarning: \n",
      "A value is trying to be set on a copy of a slice from a DataFrame.\n",
      "Try using .loc[row_indexer,col_indexer] = value instead\n",
      "\n",
      "See the caveats in the documentation: https://pandas.pydata.org/pandas-docs/stable/user_guide/indexing.html#returning-a-view-versus-a-copy\n",
      "  aval_amont[\"timestamp\"] = pd.to_datetime(aval_amont[\"Date et heure de comptage\"], utc=True)\n",
      "C:\\Users\\guill\\AppData\\Local\\Temp\\ipykernel_21564\\2760610762.py:2: SettingWithCopyWarning: \n",
      "A value is trying to be set on a copy of a slice from a DataFrame.\n",
      "Try using .loc[row_indexer,col_indexer] = value instead\n",
      "\n",
      "See the caveats in the documentation: https://pandas.pydata.org/pandas-docs/stable/user_guide/indexing.html#returning-a-view-versus-a-copy\n",
      "  aval_amont[\"timestamp_short\"] = aval_amont[\"timestamp\"].dt.strftime('%Y-%m-%dT%H:%M')\n",
      "C:\\Users\\guill\\AppData\\Local\\Temp\\ipykernel_21564\\2760610762.py:3: SettingWithCopyWarning: \n",
      "A value is trying to be set on a copy of a slice from a DataFrame.\n",
      "Try using .loc[row_indexer,col_indexer] = value instead\n",
      "\n",
      "See the caveats in the documentation: https://pandas.pydata.org/pandas-docs/stable/user_guide/indexing.html#returning-a-view-versus-a-copy\n",
      "  aval_amont[\"date\"] = aval_amont[\"timestamp\"].dt.strftime('%Y-%m-%d')\n"
     ]
    }
   ],
   "source": [
    "\n",
    "aval_amont[\"timestamp\"] = pd.to_datetime(aval_amont[\"Date et heure de comptage\"], utc=True)\n",
    "aval_amont[\"timestamp_short\"] = aval_amont[\"timestamp\"].dt.strftime('%Y-%m-%dT%H:%M')\n",
    "aval_amont[\"date\"] = aval_amont[\"timestamp\"].dt.strftime('%Y-%m-%d')"
   ]
  },
  {
   "cell_type": "code",
   "execution_count": 233,
   "metadata": {},
   "outputs": [
    {
     "name": "stderr",
     "output_type": "stream",
     "text": [
      "C:\\Users\\guill\\AppData\\Local\\Temp\\ipykernel_21564\\890006473.py:2: SettingWithCopyWarning: \n",
      "A value is trying to be set on a copy of a slice from a DataFrame.\n",
      "Try using .loc[row_indexer,col_indexer] = value instead\n",
      "\n",
      "See the caveats in the documentation: https://pandas.pydata.org/pandas-docs/stable/user_guide/indexing.html#returning-a-view-versus-a-copy\n",
      "  aval_amont[\"arrondissement\"] = aval_amont['Libelle'].apply(lambda x: dict_arr[x])\n"
     ]
    }
   ],
   "source": [
    "dict_arr = {\"AV_Champs_Elysees\": 75008, \"Sts_Peres\": 75007,  \"Convention\": 75015}\n",
    "aval_amont[\"arrondissement\"] = aval_amont['Libelle'].apply(lambda x: dict_arr[x])"
   ]
  },
  {
   "cell_type": "code",
   "execution_count": 234,
   "metadata": {},
   "outputs": [],
   "source": [
    "y = aval_amont[[\"Débit horaire\"\t, \"Taux d'occupation\",]]\n",
    "X = aval_amont[[\"timestamp\", \"Libelle\", \"Identifiant arc\", \"arrondissement\", \"date\"]]"
   ]
  },
  {
   "cell_type": "markdown",
   "metadata": {},
   "source": [
    "# Holidays"
   ]
  },
  {
   "cell_type": "code",
   "execution_count": 235,
   "metadata": {},
   "outputs": [],
   "source": [
    "calendar[\"date\"] = pd.to_datetime(calendar[\"word_date\"], utc=True)\n",
    "calendar[\"date\"] = calendar[\"date\"].dt.strftime('%Y-%m-%d')\n",
    "\n",
    "calendar[\"holiday\"] = calendar[\"holiday\"].apply(lambda x: None if x in ['MLK', 'USPRESIDENTS', 'VICTORIA', 'MEMORIAL',  'CANADA',\n",
    "       'USINDEPENDENCE','THANKSGIVINGCANADA', 'VETERANS',  'VETERANSUSG'] else x)\n",
    "\n",
    "calendar[\"is_holiday\"] = calendar[\"holiday\"].isna().apply(lambda x: 1 if x!=True else 0)\n",
    "\n",
    "vacations[\"start_date\"] = pd.to_datetime(vacations[\"Date de début\"], utc=True)\n",
    "vacations[\"start_date\"] = vacations[\"start_date\"].dt.strftime('%Y-%m-%d')\n",
    "\n",
    "vacations[\"end_date\"] = pd.to_datetime(vacations[\"Date de fin\"], utc=True)\n",
    "vacations[\"end_date\"] = vacations[\"end_date\"].dt.strftime('%Y-%m-%d')\n",
    "\n",
    "vacations = vacations[[\"start_date\", \"end_date\"]]\n",
    "\n",
    "calendar['key'] = 0\n",
    "vacations['key'] = 0\n",
    "\n",
    "special_days =calendar.merge(vacations,on='key', how='outer').drop(columns=[\"key\"])\n",
    "special_days[\"holiday_period\"] =special_days.apply(lambda x: 1 if ((x[1]>=x[-2]) and (x[1]<=x[-1])) else 0, axis=1)\n",
    "\n",
    "special_days = special_days[[\"date\", \"holiday_period\", \"holiday\", \"is_holiday\"] ]\n",
    "\n",
    "special_days = special_days.groupby(\"date\").max()"
   ]
  },
  {
   "cell_type": "markdown",
   "metadata": {},
   "source": [
    "# Road Works"
   ]
  },
  {
   "cell_type": "code",
   "execution_count": 236,
   "metadata": {},
   "outputs": [],
   "source": [
    "chantiers[\"arrondissement\"] = chantiers[\"Code postal arrondissement - Commune\"]\n",
    "chantiers[\"start_date\"] = pd.to_datetime(chantiers[\"Date début du chantier\"], utc=True)\n",
    "chantiers[\"start_date\"] = chantiers[\"start_date\"].dt.strftime('%Y-%m-%d')\n",
    "\n",
    "chantiers[\"end_date\"] = pd.to_datetime(chantiers[\"Date fin du chantier\"], utc=True)\n",
    "chantiers[\"end_date\"] = chantiers[\"end_date\"].dt.strftime('%Y-%m-%d')\n",
    "\n",
    "chantiers = chantiers[[\"start_date\", \"end_date\", \"arrondissement\"]]\n",
    "\n",
    "calendar['key'] = 0\n",
    "chantiers['key'] = 0\n",
    "\n",
    "chantiers1 =calendar.merge(chantiers,on='key', how='outer').drop(columns=[\"key\"])\n",
    "chantiers1[\"chantiers1\"] =chantiers1.apply(lambda x: 1 if ((x[1]>=x[-3]) and (x[1]<=x[-2])) else 0, axis=1)\n",
    "\n",
    "chantiers1 = chantiers1[[\"date\", \"chantiers1\", \"arrondissement\"] ]\n",
    "final_chantiers1 = chantiers1.groupby(by =[\"date\", \"arrondissement\"]).agg({'chantiers1': 'sum'}).reset_index()"
   ]
  },
  {
   "cell_type": "code",
   "execution_count": 237,
   "metadata": {},
   "outputs": [],
   "source": [
    "chantiers_pertu[\"arrondissement\"] = chantiers_pertu[\"Code postal de l'arrondissement\"]\n",
    "chantiers_pertu[\"start_date\"] = pd.to_datetime(chantiers_pertu[\"Date de début\"], utc=True)\n",
    "chantiers_pertu[\"start_date\"] = chantiers_pertu[\"start_date\"].dt.strftime('%Y-%m-%d')\n",
    "\n",
    "chantiers_pertu[\"end_date\"] = pd.to_datetime(chantiers_pertu[\"Date de fin\"], utc=True)\n",
    "chantiers_pertu[\"end_date\"] = chantiers_pertu[\"end_date\"].dt.strftime('%Y-%m-%d')\n",
    "\n",
    "chantiers_pertu = chantiers_pertu[[\"start_date\", \"end_date\", \"arrondissement\",  \"Niveau de perturbation\", \"Statut\"]]\n",
    "\n",
    "calendar['key'] = 0\n",
    "chantiers_pertu['key'] = 0\n",
    "\n",
    "chantiers_pertu1 =calendar.merge(chantiers_pertu,on='key', how='outer').drop(columns=[\"key\"])\n",
    "chantiers_pertu1[\"chantiers_pertu1\"] =chantiers_pertu1.apply(lambda x: 1 if ((x[1]>=x[-5]) and (x[1]<=x[-4])) else 0, axis=1)\n",
    "\n",
    "chantiers_pertu1 = chantiers_pertu1[[\"date\", \"chantiers_pertu1\", \"arrondissement\",  \"Niveau de perturbation\"] ]\n",
    "chantiers_pertu1[\"Niveau de perturbation\"] = chantiers_pertu1.apply(lambda x: x[\"Niveau de perturbation\"] if x[\"chantiers_pertu1\"]==1 else 0, axis = 1)\n",
    "\n"
   ]
  },
  {
   "cell_type": "code",
   "execution_count": 238,
   "metadata": {},
   "outputs": [],
   "source": [
    "\n",
    "final_chantiers_pertu1 = chantiers_pertu1.groupby(by =[\"date\", \"arrondissement\"]).agg({\"chantiers_pertu1\": \"sum\", \"Niveau de perturbation\": \"mean\" }).reset_index()"
   ]
  },
  {
   "cell_type": "markdown",
   "metadata": {},
   "source": [
    "# Weather"
   ]
  },
  {
   "cell_type": "code",
   "execution_count": 239,
   "metadata": {},
   "outputs": [],
   "source": [
    "weather_df = weather.rename(columns={\"Date\" : \"timestamp\",\n",
    "                            \"Nebulosité totale\" : \"visibility\", #\"Pression station\" : 'atm_pressure',\n",
    "                             \"Vitesse du vent moyen 10 mn\" : \"wind_speed\",\n",
    "                             \"Température (°C)\" : \"temp\", \n",
    "                             \"Humidité\" : 'humidity', \n",
    "                             \"Précipitations dans la dernière heure\" : \"rain\"})\n",
    "\n",
    "weather_df[\"timestamp\"] = pd.to_datetime(weather_df[\"timestamp\"], utc=True)\n",
    "\n",
    "weather_df = weather_df.set_index('timestamp').resample('1H').interpolate().reset_index()"
   ]
  },
  {
   "cell_type": "code",
   "execution_count": 240,
   "metadata": {},
   "outputs": [
    {
     "data": {
      "text/plain": [
       "Index(['timestamp', 'temp', 'humidity', 'visibility', 'rain', 'wind_speed'], dtype='object')"
      ]
     },
     "execution_count": 240,
     "metadata": {},
     "output_type": "execute_result"
    }
   ],
   "source": [
    "weather_df.columns"
   ]
  },
  {
   "cell_type": "code",
   "execution_count": 242,
   "metadata": {},
   "outputs": [],
   "source": [
    "weather_forecast = weather_forecast[['datetime', 'temp', 'humidity', 'precip',\n",
    "       'windspeed', 'cloudcover',]].rename(columns={\"datetime\" : \"timestamp\",\n",
    "                            \"cloudcover\" : \"visibility\", #\"Pression station\" : 'atm_pressure',\n",
    "                             \"windspeed\" : \"wind_speed\",\n",
    "                             \"precip\" : \"rain\"})"
   ]
  },
  {
   "cell_type": "markdown",
   "metadata": {},
   "source": [
    "# Events"
   ]
  },
  {
   "cell_type": "code",
   "execution_count": 114,
   "metadata": {},
   "outputs": [
    {
     "name": "stderr",
     "output_type": "stream",
     "text": [
      "C:\\Users\\guill\\AppData\\Local\\Temp\\ipykernel_21564\\3454438259.py:14: SettingWithCopyWarning: \n",
      "A value is trying to be set on a copy of a slice from a DataFrame.\n",
      "Try using .loc[row_indexer,col_indexer] = value instead\n",
      "\n",
      "See the caveats in the documentation: https://pandas.pydata.org/pandas-docs/stable/user_guide/indexing.html#returning-a-view-versus-a-copy\n",
      "  events_arr['key'] = 0\n"
     ]
    }
   ],
   "source": [
    "events[\"arrondissement\"] = events[\"Code postal\"]\n",
    "events[\"start_date\"] = pd.to_datetime(events[\"Date de début\"], utc=True)\n",
    "events[\"start_date\"] = events[\"start_date\"].dt.strftime('%Y-%m-%d')\n",
    "\n",
    "events[\"end_date\"] = pd.to_datetime(events[\"Date de fin\"], utc=True)\n",
    "events[\"end_date\"] = events[\"end_date\"].dt.strftime('%Y-%m-%d')\n",
    "\n",
    "events = events[[\"start_date\", \"end_date\", \"arrondissement\"]]\n",
    "events[\"event_duration\"]=  (pd.to_datetime(events[\"end_date\"] )- pd.to_datetime( events[\"start_date\"])).dt.days +1\n",
    "\n",
    "events_arr = events[events[\"arrondissement\"].isin([\"75007\", \"75008\", \"75015\"])]\n",
    "\n",
    "calendar['key'] = 0\n",
    "events_arr['key'] = 0\n",
    "\n",
    "events1 =calendar.merge(events_arr,on='key', how='outer').drop(columns=[\"key\"])\n"
   ]
  },
  {
   "cell_type": "code",
   "execution_count": 115,
   "metadata": {},
   "outputs": [],
   "source": [
    "\n",
    "events1[\"events1\"] =events1.apply(lambda x: 1 if ((x['date'] >= x['start_date']) and (x['date'] <= x['end_date'])) else 0, axis=1)\n"
   ]
  },
  {
   "cell_type": "code",
   "execution_count": 116,
   "metadata": {},
   "outputs": [],
   "source": [
    "events1 = events1[events1['events1']==1]\n",
    "events1[\"short_event\"] = events1[\"event_duration\"].apply(lambda x: 1 if x < 15 else 0)\n",
    "events1[\"long_event\"] = events1[\"event_duration\"].apply(lambda x: 1 if x >= 15 else 0)"
   ]
  },
  {
   "cell_type": "code",
   "execution_count": 117,
   "metadata": {},
   "outputs": [],
   "source": [
    "\n",
    "final_events1 = events1[[\"date\", 'arrondissement','events1', 'short_event', 'long_event']].groupby(by =[\"date\", \"arrondissement\"]).sum().reset_index()\n",
    "final_events1[\"arrondissement\"] = final_events1[\"arrondissement\"].astype(int)"
   ]
  },
  {
   "cell_type": "markdown",
   "metadata": {},
   "source": [
    "# Markets"
   ]
  },
  {
   "cell_type": "code",
   "execution_count": 118,
   "metadata": {},
   "outputs": [],
   "source": [
    "markets = markets[markets[\"Arrondissement\"].isin([6, 7, 8, 15])]\n",
    "markets[\"Arrondissement\"] = markets[\"Arrondissement\"]+75000\n",
    "# markets = markets[['Produit', 'Arrondissement', 'LUNDI', 'MARDI','MERCREDI', 'JEUDI', 'VENDREDI', 'SAMEDI', 'DIMANCHE']]\n",
    "markets1 = pd.melt(markets, id_vars=['Produit', \"Arrondissement\"], var_name='Day', value_name='IsEventDay')\n",
    "\n",
    "# Filter only rows where the event is on that day\n",
    "markets1 = markets1[markets1['IsEventDay'] == 1]\n",
    "\n",
    "markets1[\"Day\"] = markets1[\"Day\"].str.lower()\n",
    "\n",
    "french_day_mapping = {\n",
    "    'lundi': 1,\n",
    "    'mardi': 2,\n",
    "    'mercredi': 3,\n",
    "    'jeudi': 4,\n",
    "    'vendredi': 5,\n",
    "    'samedi': 6,\n",
    "    'dimanche': 7\n",
    "}\n",
    "\n",
    "markets1['Day'] = markets1['Day'].map(french_day_mapping)\n"
   ]
  },
  {
   "cell_type": "code",
   "execution_count": 119,
   "metadata": {},
   "outputs": [],
   "source": [
    "# Identify rows where 'samedi' column has value 1\n",
    "mask = markets['SAMEDI'] == 1\n",
    "\n",
    "# Create markets2 DataFrame based on identified rows\n",
    "markets2 = markets.loc[mask, ['Identifiant marché', 'Heure début le samedi', 'Heure fin le samedi', \"Arrondissement\"]]\n",
    "\n",
    "markets2['day'] = 6\n",
    "columns = {\"Heure début le samedi\": 'heure_debut', 'Heure fin le samedi': 'heure_fin'}\n",
    "markets2 = markets2.rename(columns=columns)\n",
    "\n",
    "mask = markets['DIMANCHE'] == 1\n",
    "markets3 = markets.loc[mask, ['Identifiant marché', 'Heure début le dimanche', 'Heure fin le dimanche', \"Arrondissement\"]]\n",
    "markets3['day'] = 7\n",
    "columns = {\"Heure début le dimanche\": 'heure_debut', 'Heure fin le dimanche': 'heure_fin'}\n",
    "markets3 = markets3.rename(columns=columns)\n",
    "\n",
    "stacked_df = pd.concat([markets2, markets3], ignore_index=True, axis=0)\n",
    "\n",
    "day_map = {'LUNDI': 1, 'MARDI': 2, 'MERCREDI': 3, 'JEUDI': 4, 'VENDREDI': 5}\n",
    "\n",
    "# Create an empty DataFrame to store results\n",
    "markets_result = pd.DataFrame(columns=['Identifiant marché', 'Heure début en semaine', 'Heure fin en semaine', 'day', \"Arrondissement\"])\n",
    "\n",
    "# Iterate through each day and filter rows\n",
    "for day, day_num in day_map.items():\n",
    "    mask = markets[day] == 1\n",
    "    day_df = markets.loc[mask, ['Identifiant marché', 'Heure début en semaine', 'Heure fin en semaine', \"Arrondissement\"]]\n",
    "    day_df['day'] = day_num\n",
    "    markets_result = pd.concat([markets_result, day_df])\n",
    "\n",
    "columns = {\"Heure début en semaine\": 'heure_debut', 'Heure fin en semaine': 'heure_fin'}\n",
    "markets_result = markets_result.rename(columns=columns)\n",
    "\n",
    "stacked_df_1 = pd.concat([stacked_df, markets_result], ignore_index=True, axis=0)\n",
    "\n",
    "stacked_df_1.rename(columns={'Arrondissement': 'arrondissement'}, inplace=True)\n",
    "stacked_df_1.rename(columns={'day': 'weekday'}, inplace=True)\n"
   ]
  },
  {
   "cell_type": "code",
   "execution_count": 120,
   "metadata": {},
   "outputs": [
    {
     "name": "stderr",
     "output_type": "stream",
     "text": [
      "C:\\Users\\guill\\AppData\\Local\\Temp\\ipykernel_21564\\2767719341.py:5: UserWarning: Could not infer format, so each element will be parsed individually, falling back to `dateutil`. To ensure parsing is consistent and as-expected, please specify a format.\n",
      "  markets_final[\"starting_hour\"] = pd.to_datetime(markets_final[\"heure_debut\"]).dt.hour -2\n",
      "C:\\Users\\guill\\AppData\\Local\\Temp\\ipykernel_21564\\2767719341.py:6: UserWarning: Could not infer format, so each element will be parsed individually, falling back to `dateutil`. To ensure parsing is consistent and as-expected, please specify a format.\n",
      "  markets_final[\"stopping_hour\"] =  pd.to_datetime(markets_final[\"heure_fin\"]).dt.hour +2\n"
     ]
    }
   ],
   "source": [
    "markets_final = stacked_df_1.groupby(by = [\"arrondissement\", \"weekday\", ]).agg({\"Identifiant marché\" :\"count\", \"heure_debut\" : \"max\", \"heure_fin\":\"min\"})\n",
    "markets_final.rename(columns={'Identifiant marché': 'number_markets'}, inplace=True)\n",
    "markets_final.reset_index(inplace=True)\n",
    "\n",
    "markets_final[\"starting_hour\"] = pd.to_datetime(markets_final[\"heure_debut\"]).dt.hour -2\n",
    "markets_final[\"stopping_hour\"] =  pd.to_datetime(markets_final[\"heure_fin\"]).dt.hour +2\n",
    "\n",
    "markets_final.drop(columns = [\"heure_debut\", \"heure_fin\"], inplace=True)"
   ]
  },
  {
   "cell_type": "markdown",
   "metadata": {},
   "source": [
    "# Calendar"
   ]
  },
  {
   "cell_type": "code",
   "execution_count": 121,
   "metadata": {},
   "outputs": [],
   "source": [
    "calendar_final = calendar[['date', 'year', 'quarter', 'month', 'yearmonth',\n",
    "       'day_of_month', 'week', 'day_of_week', 'weekday',]]\n",
    "\n"
   ]
  },
  {
   "cell_type": "markdown",
   "metadata": {},
   "source": [
    "# Merging everything\n"
   ]
  },
  {
   "cell_type": "code",
   "execution_count": 122,
   "metadata": {},
   "outputs": [],
   "source": [
    "traffic_holidays = aval_amont.merge(special_days, on=\"date\", how=\"left\")\n",
    "traffic_roadworks = traffic_holidays.merge(final_chantiers1, on=[\"date\", \"arrondissement\"], how=\"left\")\n",
    "traffic_roadworks2 = traffic_roadworks.merge(final_chantiers_pertu1, on=[\"date\", \"arrondissement\"], how=\"left\")\n",
    "traffic_weather = traffic_roadworks2.merge(weather_df, on=\"timestamp\", how=\"left\")\n",
    "\n",
    "traffic_events = traffic_weather.merge(final_events1, on=[\"date\", \"arrondissement\"], how=\"left\")\n",
    "\n",
    "traffic_calendar = traffic_events.merge(calendar_final, on = [\"date\"], how = \"left\")\n",
    "\n",
    "traffic_markets = traffic_calendar.merge(markets_final, on = [\"weekday\", \"arrondissement\"], how = \"left\")"
   ]
  },
  {
   "cell_type": "code",
   "execution_count": 123,
   "metadata": {},
   "outputs": [],
   "source": [
    "traffic_markets[\"timestamp_hour\"] = traffic_markets[\"timestamp\"].dt.hour\n"
   ]
  },
  {
   "cell_type": "code",
   "execution_count": 124,
   "metadata": {},
   "outputs": [],
   "source": [
    "traffic_markets[\"ongoing_market\"] = traffic_markets.apply(lambda x: 1 if x[\"starting_hour\"] <= x[\"timestamp_hour\"] <= x[\"stopping_hour\"] else 0, axis = 1)"
   ]
  },
  {
   "cell_type": "code",
   "execution_count": 125,
   "metadata": {},
   "outputs": [],
   "source": [
    "traffic_markets[\"year_day\"] = pd.to_datetime(traffic_markets[\"date\"]).dt.dayofyear"
   ]
  },
  {
   "cell_type": "code",
   "execution_count": 126,
   "metadata": {},
   "outputs": [],
   "source": [
    "columns_to_transform = [\"week\", \"weekday\", \"year_day\", \"timestamp_hour\"]\n",
    "\n",
    "trig = {\"week\": 52, \"weekday\": 7, \"year_day\":365, \"timestamp_hour\":24}\n",
    "\n",
    "for x in columns_to_transform:\n",
    "    traffic_markets[(\"cos_\"+x)] = np.cos(2 * np.pi * traffic_markets[x]/trig[x])\n",
    "    traffic_markets[(\"sin_\"+x)] = np.sin(2 * np.pi * traffic_markets[x]/trig[x])\n",
    "    "
   ]
  },
  {
   "cell_type": "code",
   "execution_count": 310,
   "metadata": {},
   "outputs": [
    {
     "data": {
      "text/plain": [
       "Index(['Identifiant arc', 'Libelle', 'Date et heure de comptage',\n",
       "       'Débit horaire', 'Taux d'occupation', 'Etat trafic',\n",
       "       'Identifiant noeud amont', 'Libelle noeud amont',\n",
       "       'Identifiant noeud aval', 'Libelle noeud aval', 'Etat arc', 'timestamp',\n",
       "       'timestamp_short', 'date', 'arrondissement', 'holiday_period',\n",
       "       'holiday', 'is_holiday', 'chantiers1', 'chantiers_pertu1',\n",
       "       'Niveau de perturbation', 'temp', 'humidity', 'visibility',\n",
       "       'Variation de pression en 24 heures',\n",
       "       'Précipitations dans les 24 dernières heures', 'rain', 'atm_pressure',\n",
       "       'wind_speed', 'events1', 'short_event', 'long_event', 'year', 'quarter',\n",
       "       'month', 'yearmonth', 'day_of_month', 'week', 'day_of_week', 'weekday',\n",
       "       'number_markets', 'starting_hour', 'stopping_hour', 'timestamp_hour',\n",
       "       'ongoing_market', 'year_day', 'cos_week', 'sin_week', 'cos_weekday',\n",
       "       'sin_weekday', 'cos_year_day', 'sin_year_day', 'cos_timestamp_hour',\n",
       "       'sin_timestamp_hour'],\n",
       "      dtype='object')"
      ]
     },
     "execution_count": 310,
     "metadata": {},
     "output_type": "execute_result"
    }
   ],
   "source": [
    "traffic_markets.columns"
   ]
  },
  {
   "cell_type": "code",
   "execution_count": 313,
   "metadata": {},
   "outputs": [],
   "source": [
    "traffic_final = traffic_markets[['Libelle', 'arrondissement','Débit horaire', \"Taux d'occupation\", 'timestamp', 'temp', 'humidity', 'rain',\n",
    "       'wind_speed', 'visibility', 'date', 'holiday_period', 'holiday',\n",
    "       'is_holiday', 'chantiers1', 'chantiers_pertu1',\n",
    "       'Niveau de perturbation', 'events1', 'short_event', 'long_event',\n",
    "       'year', 'quarter', 'month', 'yearmonth', 'day_of_month', 'week',\n",
    "       'day_of_week', 'weekday', 'number_markets', 'starting_hour',\n",
    "       'stopping_hour', 'timestamp_hour', 'ongoing_market', 'year_day',\n",
    "       'cos_week', 'sin_week', 'cos_weekday', 'sin_weekday', 'cos_year_day',\n",
    "       'sin_year_day', 'cos_timestamp_hour', 'sin_timestamp_hour']].copy()"
   ]
  },
  {
   "cell_type": "code",
   "execution_count": 314,
   "metadata": {},
   "outputs": [],
   "source": [
    "traffic_final.to_csv(\"traffic_final.csv\")"
   ]
  },
  {
   "cell_type": "code",
   "execution_count": null,
   "metadata": {},
   "outputs": [],
   "source": [
    "999*(1/1000)^2+"
   ]
  },
  {
   "cell_type": "markdown",
   "metadata": {},
   "source": [
    "# Test Set"
   ]
  },
  {
   "cell_type": "code",
   "execution_count": 287,
   "metadata": {},
   "outputs": [],
   "source": [
    "df1 = traffic_final[[\"Libelle\", \"arrondissement\"]].drop_duplicates()\n",
    "\n",
    "\n",
    "\n",
    "# Add a common column with the same constant value to both DataFrames\n",
    "df1['dummy'] = 1\n",
    "weather_forecast['dummy'] = 1\n",
    "\n",
    "pred_df = pd.merge(df1, weather_forecast, on='dummy', suffixes=(None, None)).drop('dummy', axis=1)\n",
    "pred_df[\"timestamp\"] = pd.to_datetime(pred_df[\"timestamp\"], utc=True)\n",
    "pred_df[\"date\"] = pred_df[\"timestamp\"].dt.strftime('%Y-%m-%d')\n",
    "\n"
   ]
  },
  {
   "cell_type": "code",
   "execution_count": 307,
   "metadata": {},
   "outputs": [],
   "source": [
    "pred_df1 = pred_df.merge(special_days, on=\"date\", how=\"left\", suffixes=(None, None))\n",
    "pred_df2 = pred_df1.merge(final_chantiers1, on=[\"date\", \"arrondissement\"], how=\"left\")\n",
    "pred_df3 = pred_df2.merge(final_chantiers_pertu1, on=[\"date\", \"arrondissement\"], how=\"left\")\n",
    "\n",
    "pred_df4 = pred_df3.merge(final_events1, on=[\"date\", \"arrondissement\"], how=\"left\")\n",
    "\n",
    "pred_df6 = pred_df4.merge(calendar_final, on = [\"date\"], how = \"left\")\n",
    "\n",
    "pred_df7 = pred_df6.merge(markets_final, on = [\"weekday\", \"arrondissement\"], how = \"left\")\n",
    "pred_df7[\"timestamp_hour\"] = pred_df7[\"timestamp\"].dt.hour\n",
    "\n",
    "pred_df7[\"ongoing_market\"] = pred_df7.apply(lambda x: 1 if x[\"starting_hour\"] <= x[\"timestamp_hour\"] <= x[\"stopping_hour\"] else 0, axis = 1)\n",
    "pred_df7[\"year_day\"] = pd.to_datetime(pred_df7[\"date\"]).dt.dayofyear\n",
    "columns_to_transform = [\"week\", \"weekday\", \"year_day\", \"timestamp_hour\"]\n",
    "\n",
    "trig = {\"week\": 52, \"weekday\": 7, \"year_day\":365, \"timestamp_hour\":24}\n",
    "\n",
    "columns_to_transform = [\"week\", \"weekday\", \"year_day\", \"timestamp_hour\"]\n",
    "\n",
    "for x in columns_to_transform:\n",
    "    pred_df7[(\"cos_\"+x)] = np.cos(2 * np.pi * pred_df7[x]/trig[x])\n",
    "    pred_df7[(\"sin_\"+x)] = np.sin(2 * np.pi * pred_df7[x]/trig[x])\n",
    "    "
   ]
  },
  {
   "cell_type": "code",
   "execution_count": 309,
   "metadata": {},
   "outputs": [],
   "source": [
    "pred_df7.to_csv(\"traffic_pred.csv\")"
   ]
  },
  {
   "cell_type": "code",
   "execution_count": 129,
   "metadata": {},
   "outputs": [],
   "source": [
    "test = traffic_events[traffic_events[\"Libelle\"]==\"AV_Champs_Elysees\"].sort_values(by=['timestamp'])"
   ]
  },
  {
   "cell_type": "code",
   "execution_count": 620,
   "metadata": {},
   "outputs": [],
   "source": [
    "champs = aval_amont[aval_amont['Libelle'] == \"AV_Champs_Elysees\"].sort_values(by=[\"Date et heure de comptage\"], ascending=True)\n",
    "conv =  aval_amont[aval_amont['Libelle'] == \"Conventions\"].sort_values(by=[\"Date et heure de comptage\"], ascending=True)\n",
    "sts = aval_amont[aval_amont['Libelle'] == \"Sts_Peres\"].sort_values(by=[\"Date et heure de comptage\"], ascending=True)"
   ]
  },
  {
   "cell_type": "code",
   "execution_count": 623,
   "metadata": {},
   "outputs": [
    {
     "data": {
      "text/plain": [
       "[<matplotlib.lines.Line2D at 0x1ec87a35570>]"
      ]
     },
     "execution_count": 623,
     "metadata": {},
     "output_type": "execute_result"
    },
    {
     "data": {
      "image/png": "[encoded data removed]",
      "text/plain": [
       "<Figure size 640x480 with 1 Axes>"
      ]
     },
     "metadata": {},
     "output_type": "display_data"
    }
   ],
   "source": [
    "plt.plot(list(range(9314)), champs[\"Débit horaire\"])"
   ]
  }
 ],
 "metadata": {
  "kernelspec": {
   "display_name": "Python 3",
   "language": "python",
   "name": "python3"
  },
  "language_info": {
   "codemirror_mode": {
    "name": "ipython",
    "version": 3
   },
   "file_extension": ".py",
   "mimetype": "text/x-python",
   "name": "python",
   "nbconvert_exporter": "python",
   "pygments_lexer": "ipython3",
   "version": "3.10.2"
  }
 },
 "nbformat": 4,
 "nbformat_minor": 2
}
